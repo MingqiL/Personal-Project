{
 "cells": [
  {
   "cell_type": "markdown",
   "metadata": {},
   "source": [
    "# Import Libraries"
   ]
  },
  {
   "cell_type": "code",
   "execution_count": 1,
   "metadata": {},
   "outputs": [],
   "source": [
    "import numpy as np \n",
    "import pandas as pd \n",
    "import tensorflow as tf\n",
    "from matplotlib import pyplot as plt"
   ]
  },
  {
   "cell_type": "markdown",
   "metadata": {},
   "source": [
    "# Import Dataset"
   ]
  },
  {
   "cell_type": "code",
   "execution_count": 2,
   "metadata": {},
   "outputs": [],
   "source": [
    "dataset = pd.read_csv('InjecDataset.csv')"
   ]
  },
  {
   "cell_type": "code",
   "execution_count": 3,
   "metadata": {},
   "outputs": [
    {
     "data": {
      "text/html": [
       "<div>\n",
       "<style scoped>\n",
       "    .dataframe tbody tr th:only-of-type {\n",
       "        vertical-align: middle;\n",
       "    }\n",
       "\n",
       "    .dataframe tbody tr th {\n",
       "        vertical-align: top;\n",
       "    }\n",
       "\n",
       "    .dataframe thead th {\n",
       "        text-align: right;\n",
       "    }\n",
       "</style>\n",
       "<table border=\"1\" class=\"dataframe\">\n",
       "  <thead>\n",
       "    <tr style=\"text-align: right;\">\n",
       "      <th></th>\n",
       "      <th>ID</th>\n",
       "      <th>Pressure(front)</th>\n",
       "      <th>Pressure(back)</th>\n",
       "      <th>Temp</th>\n",
       "      <th>Label</th>\n",
       "      <th>thick</th>\n",
       "      <th>width</th>\n",
       "      <th>Tensile Strength (MPa)</th>\n",
       "      <th>Deflection</th>\n",
       "    </tr>\n",
       "  </thead>\n",
       "  <tbody>\n",
       "    <tr>\n",
       "      <th>0</th>\n",
       "      <td>1</td>\n",
       "      <td>NaN</td>\n",
       "      <td>56.0</td>\n",
       "      <td>240</td>\n",
       "      <td>W</td>\n",
       "      <td>2.993</td>\n",
       "      <td>12.60</td>\n",
       "      <td>24.22</td>\n",
       "      <td>NaN</td>\n",
       "    </tr>\n",
       "    <tr>\n",
       "      <th>1</th>\n",
       "      <td>2</td>\n",
       "      <td>NaN</td>\n",
       "      <td>NaN</td>\n",
       "      <td>240</td>\n",
       "      <td>W</td>\n",
       "      <td>2.965</td>\n",
       "      <td>12.61</td>\n",
       "      <td>NaN</td>\n",
       "      <td>NaN</td>\n",
       "    </tr>\n",
       "    <tr>\n",
       "      <th>2</th>\n",
       "      <td>3</td>\n",
       "      <td>NaN</td>\n",
       "      <td>NaN</td>\n",
       "      <td>240</td>\n",
       "      <td>W</td>\n",
       "      <td>3.002</td>\n",
       "      <td>12.61</td>\n",
       "      <td>23.69</td>\n",
       "      <td>41.8</td>\n",
       "    </tr>\n",
       "    <tr>\n",
       "      <th>3</th>\n",
       "      <td>4</td>\n",
       "      <td>NaN</td>\n",
       "      <td>NaN</td>\n",
       "      <td>240</td>\n",
       "      <td>W</td>\n",
       "      <td>2.993</td>\n",
       "      <td>12.68</td>\n",
       "      <td>23.76</td>\n",
       "      <td>42.0</td>\n",
       "    </tr>\n",
       "    <tr>\n",
       "      <th>4</th>\n",
       "      <td>5</td>\n",
       "      <td>NaN</td>\n",
       "      <td>NaN</td>\n",
       "      <td>240</td>\n",
       "      <td>W</td>\n",
       "      <td>2.963</td>\n",
       "      <td>12.67</td>\n",
       "      <td>24.42</td>\n",
       "      <td>42.2</td>\n",
       "    </tr>\n",
       "    <tr>\n",
       "      <th>...</th>\n",
       "      <td>...</td>\n",
       "      <td>...</td>\n",
       "      <td>...</td>\n",
       "      <td>...</td>\n",
       "      <td>...</td>\n",
       "      <td>...</td>\n",
       "      <td>...</td>\n",
       "      <td>...</td>\n",
       "      <td>...</td>\n",
       "    </tr>\n",
       "    <tr>\n",
       "      <th>169</th>\n",
       "      <td>4</td>\n",
       "      <td>65.0</td>\n",
       "      <td>56.0</td>\n",
       "      <td>240</td>\n",
       "      <td>Red</td>\n",
       "      <td>NaN</td>\n",
       "      <td>NaN</td>\n",
       "      <td>NaN</td>\n",
       "      <td>NaN</td>\n",
       "    </tr>\n",
       "    <tr>\n",
       "      <th>170</th>\n",
       "      <td>5</td>\n",
       "      <td>65.0</td>\n",
       "      <td>56.0</td>\n",
       "      <td>240</td>\n",
       "      <td>Red</td>\n",
       "      <td>NaN</td>\n",
       "      <td>NaN</td>\n",
       "      <td>NaN</td>\n",
       "      <td>NaN</td>\n",
       "    </tr>\n",
       "    <tr>\n",
       "      <th>171</th>\n",
       "      <td>23</td>\n",
       "      <td>42.0</td>\n",
       "      <td>40.0</td>\n",
       "      <td>240</td>\n",
       "      <td>Red</td>\n",
       "      <td>NaN</td>\n",
       "      <td>NaN</td>\n",
       "      <td>NaN</td>\n",
       "      <td>NaN</td>\n",
       "    </tr>\n",
       "    <tr>\n",
       "      <th>172</th>\n",
       "      <td>28</td>\n",
       "      <td>48.0</td>\n",
       "      <td>49.0</td>\n",
       "      <td>240</td>\n",
       "      <td>Red</td>\n",
       "      <td>NaN</td>\n",
       "      <td>NaN</td>\n",
       "      <td>NaN</td>\n",
       "      <td>NaN</td>\n",
       "    </tr>\n",
       "    <tr>\n",
       "      <th>173</th>\n",
       "      <td>30</td>\n",
       "      <td>48.0</td>\n",
       "      <td>40.0</td>\n",
       "      <td>240</td>\n",
       "      <td>Red</td>\n",
       "      <td>NaN</td>\n",
       "      <td>NaN</td>\n",
       "      <td>NaN</td>\n",
       "      <td>NaN</td>\n",
       "    </tr>\n",
       "  </tbody>\n",
       "</table>\n",
       "<p>174 rows × 9 columns</p>\n",
       "</div>"
      ],
      "text/plain": [
       "     ID  Pressure(front)  Pressure(back)  Temp Label  thick  width  \\\n",
       "0     1              NaN            56.0   240     W  2.993  12.60   \n",
       "1     2              NaN             NaN   240     W  2.965  12.61   \n",
       "2     3              NaN             NaN   240     W  3.002  12.61   \n",
       "3     4              NaN             NaN   240     W  2.993  12.68   \n",
       "4     5              NaN             NaN   240     W  2.963  12.67   \n",
       "..   ..              ...             ...   ...   ...    ...    ...   \n",
       "169   4             65.0            56.0   240   Red    NaN    NaN   \n",
       "170   5             65.0            56.0   240   Red    NaN    NaN   \n",
       "171  23             42.0            40.0   240   Red    NaN    NaN   \n",
       "172  28             48.0            49.0   240   Red    NaN    NaN   \n",
       "173  30             48.0            40.0   240   Red    NaN    NaN   \n",
       "\n",
       "     Tensile Strength (MPa)  Deflection  \n",
       "0                     24.22         NaN  \n",
       "1                       NaN         NaN  \n",
       "2                     23.69        41.8  \n",
       "3                     23.76        42.0  \n",
       "4                     24.42        42.2  \n",
       "..                      ...         ...  \n",
       "169                     NaN         NaN  \n",
       "170                     NaN         NaN  \n",
       "171                     NaN         NaN  \n",
       "172                     NaN         NaN  \n",
       "173                     NaN         NaN  \n",
       "\n",
       "[174 rows x 9 columns]"
      ]
     },
     "execution_count": 3,
     "metadata": {},
     "output_type": "execute_result"
    }
   ],
   "source": [
    "dataset"
   ]
  },
  {
   "cell_type": "code",
   "execution_count": 4,
   "metadata": {},
   "outputs": [
    {
     "data": {
      "text/html": [
       "<div>\n",
       "<style scoped>\n",
       "    .dataframe tbody tr th:only-of-type {\n",
       "        vertical-align: middle;\n",
       "    }\n",
       "\n",
       "    .dataframe tbody tr th {\n",
       "        vertical-align: top;\n",
       "    }\n",
       "\n",
       "    .dataframe thead th {\n",
       "        text-align: right;\n",
       "    }\n",
       "</style>\n",
       "<table border=\"1\" class=\"dataframe\">\n",
       "  <thead>\n",
       "    <tr style=\"text-align: right;\">\n",
       "      <th></th>\n",
       "      <th>Label</th>\n",
       "    </tr>\n",
       "  </thead>\n",
       "  <tbody>\n",
       "    <tr>\n",
       "      <th>0</th>\n",
       "      <td>0.0</td>\n",
       "    </tr>\n",
       "    <tr>\n",
       "      <th>1</th>\n",
       "      <td>0.0</td>\n",
       "    </tr>\n",
       "    <tr>\n",
       "      <th>2</th>\n",
       "      <td>0.0</td>\n",
       "    </tr>\n",
       "    <tr>\n",
       "      <th>3</th>\n",
       "      <td>0.0</td>\n",
       "    </tr>\n",
       "    <tr>\n",
       "      <th>4</th>\n",
       "      <td>0.0</td>\n",
       "    </tr>\n",
       "    <tr>\n",
       "      <th>...</th>\n",
       "      <td>...</td>\n",
       "    </tr>\n",
       "    <tr>\n",
       "      <th>169</th>\n",
       "      <td>1.0</td>\n",
       "    </tr>\n",
       "    <tr>\n",
       "      <th>170</th>\n",
       "      <td>1.0</td>\n",
       "    </tr>\n",
       "    <tr>\n",
       "      <th>171</th>\n",
       "      <td>1.0</td>\n",
       "    </tr>\n",
       "    <tr>\n",
       "      <th>172</th>\n",
       "      <td>1.0</td>\n",
       "    </tr>\n",
       "    <tr>\n",
       "      <th>173</th>\n",
       "      <td>1.0</td>\n",
       "    </tr>\n",
       "  </tbody>\n",
       "</table>\n",
       "<p>174 rows × 1 columns</p>\n",
       "</div>"
      ],
      "text/plain": [
       "     Label\n",
       "0      0.0\n",
       "1      0.0\n",
       "2      0.0\n",
       "3      0.0\n",
       "4      0.0\n",
       "..     ...\n",
       "169    1.0\n",
       "170    1.0\n",
       "171    1.0\n",
       "172    1.0\n",
       "173    1.0\n",
       "\n",
       "[174 rows x 1 columns]"
      ]
     },
     "execution_count": 4,
     "metadata": {},
     "output_type": "execute_result"
    }
   ],
   "source": [
    "Labels = {'W': 0.0, 'Red': 1.0, 'Green': 2.0, 'Red/Green': 3.0}\n",
    "dataset['Label'] = dataset['Label'].map(Labels)\n",
    "pd.DataFrame(dataset['Label'])"
   ]
  },
  {
   "cell_type": "markdown",
   "metadata": {},
   "source": [
    "# Using the Mean strategy to impute data"
   ]
  },
  {
   "cell_type": "code",
   "execution_count": 5,
   "metadata": {},
   "outputs": [],
   "source": [
    "from sklearn.impute import SimpleImputer\n",
    "imputer = SimpleImputer(missing_values=np.nan, strategy='mean')\n",
    "imputer.fit(dataset.iloc[:, 1:9])\n",
    "dataset.iloc[:, 1:9] = imputer.transform(dataset.iloc[:, 1:9])"
   ]
  },
  {
   "cell_type": "markdown",
   "metadata": {},
   "source": [
    "## Only using Pressure(Front), Pressure(Back) and Temp as input values"
   ]
  },
  {
   "cell_type": "code",
   "execution_count": 6,
   "metadata": {},
   "outputs": [],
   "source": [
    "#Setup Tensile Test\n",
    "Xt = dataset.iloc[:, 1:4].values \n",
    "Yt = dataset.iloc[:, -2].values\n",
    "#Setup Deflection\n",
    "Xd = dataset.iloc[:, 1:4].values\n",
    "Yd= dataset.iloc[:,-1].values"
   ]
  },
  {
   "cell_type": "markdown",
   "metadata": {},
   "source": [
    "# Splitting Test and Train Data"
   ]
  },
  {
   "cell_type": "code",
   "execution_count": 7,
   "metadata": {},
   "outputs": [],
   "source": [
    "from sklearn.model_selection import train_test_split\n",
    "Xt_train, Xt_test, Yt_train, Yt_test = train_test_split(Xt, Yt, test_size = 0.2, random_state = 1)\n",
    "Xd_train, Xd_test, Yd_train, Yd_test = train_test_split(Xd, Yd, test_size = 0.2, random_state = 1)"
   ]
  },
  {
   "cell_type": "markdown",
   "metadata": {},
   "source": [
    "### Perform Feature Scaling"
   ]
  },
  {
   "cell_type": "code",
   "execution_count": 8,
   "metadata": {},
   "outputs": [
    {
     "data": {
      "text/plain": [
       "array([[ 54.       ,  56.       , 240.       ],\n",
       "       [ 54.       ,  48.8627451, 240.       ],\n",
       "       [ 54.       ,  48.8627451, 240.       ],\n",
       "       [ 54.       ,  48.8627451, 240.       ],\n",
       "       [ 54.       ,  48.8627451, 240.       ],\n",
       "       [ 54.       ,  48.8627451, 240.       ],\n",
       "       [ 54.       ,  48.8627451, 240.       ],\n",
       "       [ 54.       ,  48.8627451, 240.       ],\n",
       "       [ 54.       ,  48.8627451, 240.       ],\n",
       "       [ 54.       ,  48.8627451, 240.       ],\n",
       "       [ 54.       ,  48.8627451, 240.       ],\n",
       "       [ 54.       ,  48.8627451, 240.       ],\n",
       "       [ 54.       ,  48.8627451, 240.       ],\n",
       "       [ 54.       ,  48.8627451, 240.       ],\n",
       "       [ 54.       ,  48.8627451, 240.       ],\n",
       "       [ 54.       ,  48.8627451, 240.       ],\n",
       "       [ 54.       ,  48.8627451, 240.       ],\n",
       "       [ 54.       ,  48.8627451, 240.       ],\n",
       "       [ 54.       ,  48.8627451, 240.       ],\n",
       "       [ 54.       ,  48.8627451, 240.       ],\n",
       "       [ 54.       ,  48.8627451, 240.       ],\n",
       "       [ 54.       ,  48.8627451, 240.       ],\n",
       "       [ 54.       ,  48.8627451, 240.       ],\n",
       "       [ 56.       ,  48.8627451, 240.       ],\n",
       "       [ 54.       ,  48.8627451, 240.       ],\n",
       "       [ 54.       ,  48.8627451, 240.       ],\n",
       "       [ 54.       ,  48.8627451, 240.       ],\n",
       "       [ 54.       ,  48.8627451, 240.       ],\n",
       "       [ 54.       ,  48.8627451, 240.       ],\n",
       "       [ 54.       ,  48.8627451, 240.       ],\n",
       "       [ 54.       ,  48.8627451, 240.       ],\n",
       "       [ 54.       ,  48.8627451, 240.       ],\n",
       "       [ 54.       ,  48.8627451, 240.       ],\n",
       "       [ 54.       ,  48.8627451, 240.       ],\n",
       "       [ 54.       ,  48.8627451, 240.       ],\n",
       "       [ 54.       ,  48.8627451, 240.       ],\n",
       "       [ 54.       ,  48.8627451, 240.       ],\n",
       "       [ 54.       ,  48.8627451, 240.       ],\n",
       "       [ 54.       ,  48.8627451, 240.       ],\n",
       "       [ 54.       ,  48.8627451, 240.       ],\n",
       "       [ 54.       ,  48.8627451, 240.       ],\n",
       "       [ 54.       ,  48.8627451, 240.       ],\n",
       "       [ 54.       ,  48.8627451, 240.       ],\n",
       "       [ 54.       ,  48.8627451, 240.       ],\n",
       "       [ 54.       ,  48.8627451, 240.       ],\n",
       "       [ 54.       ,  48.8627451, 240.       ],\n",
       "       [ 54.       ,  48.8627451, 240.       ],\n",
       "       [ 54.       ,  48.8627451, 240.       ],\n",
       "       [ 54.       ,  48.8627451, 240.       ],\n",
       "       [ 54.       ,  48.8627451, 240.       ],\n",
       "       [ 54.       ,  48.8627451, 240.       ],\n",
       "       [ 54.       ,  48.8627451, 240.       ],\n",
       "       [ 54.       ,  48.8627451, 240.       ],\n",
       "       [ 54.       ,  48.8627451, 240.       ],\n",
       "       [ 54.       ,  48.8627451, 240.       ],\n",
       "       [ 54.       ,  48.8627451, 240.       ],\n",
       "       [ 54.       ,  48.8627451, 240.       ],\n",
       "       [ 54.       ,  48.8627451, 240.       ],\n",
       "       [ 54.       ,  48.8627451, 240.       ],\n",
       "       [ 54.       ,  48.8627451, 240.       ],\n",
       "       [ 54.       ,  48.8627451, 240.       ],\n",
       "       [ 54.       ,  48.8627451, 240.       ],\n",
       "       [ 54.       ,  48.8627451, 240.       ],\n",
       "       [ 54.       ,  48.8627451, 240.       ],\n",
       "       [ 54.       ,  48.8627451, 240.       ],\n",
       "       [ 54.       ,  48.8627451, 240.       ],\n",
       "       [ 54.       ,  48.8627451, 240.       ],\n",
       "       [ 54.       ,  48.8627451, 240.       ],\n",
       "       [ 54.       ,  48.8627451, 240.       ],\n",
       "       [ 54.       ,  48.8627451, 240.       ],\n",
       "       [ 54.       ,  48.8627451, 240.       ],\n",
       "       [ 54.       ,  48.8627451, 240.       ],\n",
       "       [ 54.       ,  48.8627451, 240.       ],\n",
       "       [ 54.       ,  48.8627451, 240.       ],\n",
       "       [ 54.       ,  48.8627451, 240.       ],\n",
       "       [ 54.       ,  48.8627451, 240.       ],\n",
       "       [ 54.       ,  48.8627451, 240.       ],\n",
       "       [ 54.       ,  48.8627451, 240.       ],\n",
       "       [ 54.       ,  48.8627451, 240.       ],\n",
       "       [ 54.       ,  48.8627451, 240.       ],\n",
       "       [ 54.       ,  48.8627451, 240.       ],\n",
       "       [ 54.       ,  48.8627451, 240.       ],\n",
       "       [ 54.       ,  48.8627451, 240.       ],\n",
       "       [ 54.       ,  48.8627451, 240.       ],\n",
       "       [ 54.       ,  48.8627451, 240.       ],\n",
       "       [ 54.       ,  48.8627451, 240.       ],\n",
       "       [ 54.       ,  48.8627451, 240.       ],\n",
       "       [ 54.       ,  48.8627451, 240.       ],\n",
       "       [ 54.       ,  48.8627451, 240.       ],\n",
       "       [ 54.       ,  48.8627451, 240.       ],\n",
       "       [ 54.       ,  48.8627451, 240.       ],\n",
       "       [ 54.       ,  48.8627451, 240.       ],\n",
       "       [ 54.       ,  48.8627451, 240.       ],\n",
       "       [ 54.       ,  48.8627451, 240.       ],\n",
       "       [ 54.       ,  48.8627451, 240.       ],\n",
       "       [ 54.       ,  48.8627451, 240.       ],\n",
       "       [ 54.       ,  48.8627451, 240.       ],\n",
       "       [ 54.       ,  48.8627451, 240.       ],\n",
       "       [ 54.       ,  48.8627451, 240.       ],\n",
       "       [ 54.       ,  48.8627451, 240.       ],\n",
       "       [ 54.       ,  48.8627451, 240.       ],\n",
       "       [ 54.       ,  48.8627451, 240.       ],\n",
       "       [ 54.       ,  48.8627451, 240.       ],\n",
       "       [ 54.       ,  48.8627451, 240.       ],\n",
       "       [ 54.       ,  48.8627451, 240.       ],\n",
       "       [ 54.       ,  48.8627451, 240.       ],\n",
       "       [ 54.       ,  48.8627451, 240.       ],\n",
       "       [ 54.       ,  48.8627451, 240.       ],\n",
       "       [ 54.       ,  48.8627451, 240.       ],\n",
       "       [ 54.       ,  48.8627451, 240.       ],\n",
       "       [ 54.       ,  48.8627451, 240.       ],\n",
       "       [ 54.       ,  48.8627451, 240.       ],\n",
       "       [ 54.       ,  48.8627451, 240.       ],\n",
       "       [ 54.       ,  48.8627451, 240.       ],\n",
       "       [ 54.       ,  48.8627451, 240.       ],\n",
       "       [ 54.       ,  48.8627451, 240.       ],\n",
       "       [ 54.       ,  48.8627451, 240.       ],\n",
       "       [ 54.       ,  48.8627451, 240.       ],\n",
       "       [ 54.       ,  48.8627451, 240.       ],\n",
       "       [ 54.       ,  48.8627451, 240.       ],\n",
       "       [ 54.       ,  48.8627451, 240.       ],\n",
       "       [ 54.       ,  48.8627451, 240.       ],\n",
       "       [ 55.       ,  48.8627451, 240.       ],\n",
       "       [ 54.       ,  48.8627451, 240.       ],\n",
       "       [ 55.       ,  50.       , 230.       ],\n",
       "       [ 48.       ,  45.       , 260.       ],\n",
       "       [ 48.       ,  45.       , 260.       ],\n",
       "       [ 48.       ,  45.       , 260.       ],\n",
       "       [ 48.       ,  45.       , 260.       ],\n",
       "       [ 48.       ,  45.       , 260.       ],\n",
       "       [ 48.       ,  50.       , 260.       ],\n",
       "       [ 48.       ,  45.       , 260.       ],\n",
       "       [ 48.       ,  45.       , 260.       ],\n",
       "       [ 55.       ,  50.       , 230.       ],\n",
       "       [ 55.       ,  50.       , 230.       ],\n",
       "       [ 55.       ,  50.       , 230.       ],\n",
       "       [ 55.       ,  50.       , 230.       ],\n",
       "       [ 55.       ,  50.       , 230.       ],\n",
       "       [ 55.       ,  50.       , 230.       ],\n",
       "       [ 48.       ,  50.       , 260.       ],\n",
       "       [ 55.       ,  50.       , 230.       ],\n",
       "       [ 48.       ,  50.       , 260.       ],\n",
       "       [ 55.       ,  50.       , 230.       ],\n",
       "       [ 65.       ,  56.       , 240.       ],\n",
       "       [ 65.       ,  56.       , 240.       ],\n",
       "       [ 65.       ,  56.       , 240.       ],\n",
       "       [ 62.       ,  56.       , 240.       ],\n",
       "       [ 62.       ,  56.       , 240.       ],\n",
       "       [ 62.       ,  56.       , 240.       ],\n",
       "       [ 62.       ,  56.       , 240.       ],\n",
       "       [ 62.       ,  56.       , 240.       ],\n",
       "       [ 68.       ,  56.       , 240.       ],\n",
       "       [ 68.       ,  56.       , 240.       ],\n",
       "       [ 68.       ,  56.       , 240.       ],\n",
       "       [ 68.       ,  56.       , 240.       ],\n",
       "       [ 68.       ,  56.       , 240.       ],\n",
       "       [ 55.       ,  56.       , 240.       ],\n",
       "       [ 45.       ,  40.       , 240.       ],\n",
       "       [ 45.       ,  40.       , 240.       ],\n",
       "       [ 45.       ,  40.       , 240.       ],\n",
       "       [ 45.       ,  40.       , 240.       ],\n",
       "       [ 42.       ,  40.       , 240.       ],\n",
       "       [ 42.       ,  40.       , 240.       ],\n",
       "       [ 42.       ,  40.       , 240.       ],\n",
       "       [ 42.       ,  40.       , 240.       ],\n",
       "       [ 48.       ,  40.       , 240.       ],\n",
       "       [ 48.       ,  40.       , 240.       ],\n",
       "       [ 45.       ,  40.       , 240.       ],\n",
       "       [ 65.       ,  56.       , 240.       ],\n",
       "       [ 65.       ,  56.       , 240.       ],\n",
       "       [ 65.       ,  56.       , 240.       ],\n",
       "       [ 42.       ,  40.       , 240.       ],\n",
       "       [ 48.       ,  49.       , 240.       ],\n",
       "       [ 48.       ,  40.       , 240.       ]])"
      ]
     },
     "execution_count": 8,
     "metadata": {},
     "output_type": "execute_result"
    }
   ],
   "source": [
    "Xd"
   ]
  },
  {
   "cell_type": "code",
   "execution_count": 9,
   "metadata": {},
   "outputs": [],
   "source": [
    "from sklearn.preprocessing import StandardScaler\n",
    "sc = StandardScaler()\n",
    "Xt_train[:, :] = sc.fit_transform(Xt_train[:, :])\n",
    "Xt_test[:, :] = sc.transform(Xt_test[:, :])\n",
    "Xd_train[:, :] = sc.fit_transform(Xd_train[:, :])\n",
    "Xd_test[:, :] = sc.transform(Xd_test[:, :])"
   ]
  },
  {
   "cell_type": "markdown",
   "metadata": {},
   "source": [
    "# Attempt SVC, Logitistic Regression"
   ]
  },
  {
   "cell_type": "code",
   "execution_count": 10,
   "metadata": {},
   "outputs": [
    {
     "data": {
      "image/png": "[encoded data removed]",
      "text/plain": [
       "<Figure size 1080x1080 with 9 Axes>"
      ]
     },
     "metadata": {
      "needs_background": "light"
     },
     "output_type": "display_data"
    }
   ],
   "source": [
    "dataset.hist(bins=30,figsize=(15,15))\n",
    "plt.show()"
   ]
  },
  {
   "cell_type": "code",
   "execution_count": 11,
   "metadata": {},
   "outputs": [
    {
     "data": {
      "image/png": "[encoded data removed]",
      "text/plain": [
       "<Figure size 600x400 with 2 Axes>"
      ]
     },
     "metadata": {
      "needs_background": "light"
     },
     "output_type": "display_data"
    },
    {
     "data": {
      "text/plain": [
       "Tensile Strength (MPa)    1.000000\n",
       "Deflection                0.200720\n",
       "Label                     0.082306\n",
       "Pressure(front)           0.050663\n",
       "Pressure(back)           -0.013435\n",
       "ID                       -0.031712\n",
       "width                    -0.062640\n",
       "Temp                     -0.120207\n",
       "thick                    -0.173836\n",
       "Name: Tensile Strength (MPa), dtype: float64"
      ]
     },
     "execution_count": 11,
     "metadata": {},
     "output_type": "execute_result"
    }
   ],
   "source": [
    "#Use correlation matrix to get an understanding of the data's relationships\n",
    "corr_matrix = dataset.corr()\n",
    "\n",
    "mask = np.triu(np.ones_like(corr_matrix,dtype = bool)) # Only keep the upper triangle of an array.\n",
    "from seaborn import heatmap\n",
    "plt.figure(dpi=100)\n",
    "plt.title('Correlation Analysis')\n",
    "heatmap(corr_matrix,mask=mask,annot=False,lw=0,linecolor='white',cmap='magma',fmt = \"0.2f\")\n",
    "plt.xticks(rotation=90)\n",
    "plt.yticks(rotation = 0)\n",
    "plt.show()\n",
    "#Check the relationships numerically\n",
    "corr_matrix[\"Tensile Strength (MPa)\"].sort_values(ascending=False)"
   ]
  },
  {
   "cell_type": "code",
   "execution_count": 12,
   "metadata": {},
   "outputs": [
    {
     "data": {
      "text/plain": [
       "Deflection                1.000000\n",
       "Label                     0.341548\n",
       "Pressure(front)           0.221954\n",
       "Tensile Strength (MPa)    0.200720\n",
       "width                     0.190768\n",
       "Pressure(back)            0.123119\n",
       "Temp                      0.109745\n",
       "ID                       -0.197515\n",
       "thick                    -0.204527\n",
       "Name: Deflection, dtype: float64"
      ]
     },
     "execution_count": 12,
     "metadata": {},
     "output_type": "execute_result"
    }
   ],
   "source": [
    "#Check Relationship Numberically\n",
    "corr_matrix[\"Deflection\"].sort_values(ascending=False)"
   ]
  },
  {
   "cell_type": "markdown",
   "metadata": {},
   "source": [
    "The Deflection correlated with Pressure(Front) 0.22, Pressure(Back) 0.12, Temp 0.11\n",
    "The  Tensile Strength correlated with Pressure(front) 0.05, and NEGATIVE correlation with back pressure and Temp"
   ]
  },
  {
   "cell_type": "markdown",
   "metadata": {},
   "source": [
    "# Using Random Forest"
   ]
  },
  {
   "cell_type": "code",
   "execution_count": 13,
   "metadata": {},
   "outputs": [],
   "source": [
    "from sklearn.ensemble import RandomForestRegressor\n",
    "from sklearn.metrics import r2_score\n"
   ]
  },
  {
   "cell_type": "code",
   "execution_count": 81,
   "metadata": {},
   "outputs": [
    {
     "name": "stdout",
     "output_type": "stream",
     "text": [
      "R2 Score =  -0.010156625091404026\n",
      "0.10318703215650908\n"
     ]
    }
   ],
   "source": [
    "# Tensile Test\n",
    "rf=RandomForestRegressor(n_estimators=30)\n",
    "rf.fit(Xt_train,Yt_train)\n",
    "Yt_pred = rf.predict(Xt_test)\n",
    "score = r2_score(Yt_test,Yt_pred)\n",
    "print('R2 Score = ', score)\n",
    "score=mean_squared_error(Yt_pred,Yt_test)\n",
    "print(score)"
   ]
  },
  {
   "cell_type": "code",
   "execution_count": 80,
   "metadata": {},
   "outputs": [
    {
     "name": "stdout",
     "output_type": "stream",
     "text": [
      "R2 Score =  0.38826463551793966\n",
      "0.10553684508603108\n"
     ]
    }
   ],
   "source": [
    "#Defelction\n",
    "rf=RandomForestRegressor(n_estimators=30)\n",
    "rf.fit(Xd_train,Yd_train)\n",
    "Yd_pred = rf.predict(Xd_test)\n",
    "score = r2_score(Yd_test,Yd_pred)\n",
    "print('R2 Score = ', score)\n",
    "score=mean_squared_error(Yd_pred,Yd_test)\n",
    "print(score)"
   ]
  },
  {
   "cell_type": "markdown",
   "metadata": {},
   "source": [
    "# Using Linear Regression"
   ]
  },
  {
   "cell_type": "code",
   "execution_count": 16,
   "metadata": {},
   "outputs": [],
   "source": [
    "from sklearn.linear_model import LinearRegression"
   ]
  },
  {
   "cell_type": "code",
   "execution_count": 78,
   "metadata": {},
   "outputs": [
    {
     "name": "stdout",
     "output_type": "stream",
     "text": [
      "R2 Score =  0.005375445230179521\n",
      "0.10160043835519103\n"
     ]
    }
   ],
   "source": [
    "regressor = LinearRegression()\n",
    "regressor.fit(Xt_train, Yt_train)\n",
    "Yt_pred = regressor.predict(Xt_test)\n",
    "score = r2_score(Yt_test,Yt_pred)\n",
    "print('R2 Score = ', score)\n",
    "score=mean_squared_error(Yt_pred,Yt_test)\n",
    "print(score)"
   ]
  },
  {
   "cell_type": "code",
   "execution_count": 79,
   "metadata": {},
   "outputs": [
    {
     "name": "stdout",
     "output_type": "stream",
     "text": [
      "R2 Score =  0.1853615115565901\n",
      "0.14054177827165973\n"
     ]
    }
   ],
   "source": [
    "regressor = LinearRegression()\n",
    "regressor.fit(Xd_train, Yd_train)\n",
    "Yd_pred = regressor.predict(Xd_test)\n",
    "score = r2_score(Yd_test,Yd_pred)\n",
    "print('R2 Score = ', score)\n",
    "score=mean_squared_error(Yd_pred,Yd_test)\n",
    "print(score)"
   ]
  },
  {
   "cell_type": "markdown",
   "metadata": {},
   "source": [
    "# Using SVR Trees"
   ]
  },
  {
   "cell_type": "code",
   "execution_count": 69,
   "metadata": {},
   "outputs": [
    {
     "data": {
      "text/plain": [
       "SVR(C=1.0, cache_size=200, coef0=0.0, degree=3, epsilon=0.1, gamma='scale',\n",
       "    kernel='sigmoid', max_iter=-1, shrinking=True, tol=0.001, verbose=False)"
      ]
     },
     "execution_count": 69,
     "metadata": {},
     "output_type": "execute_result"
    }
   ],
   "source": [
    "from sklearn.svm import SVR\n",
    "from sklearn.metrics import confusion_matrix, accuracy_score, mean_squared_error \n",
    "Tregressor = SVR(kernel = 'sigmoid')\n",
    "Tregressor.fit(Xt_train, Yt_train)"
   ]
  },
  {
   "cell_type": "code",
   "execution_count": 74,
   "metadata": {},
   "outputs": [
    {
     "name": "stdout",
     "output_type": "stream",
     "text": [
      "The Tensile Strength will be [24.27329136] MPa\n",
      "-0.10347621999330454\n",
      "0.7260565968770627\n"
     ]
    }
   ],
   "source": [
    "#Tensile Test Prediction\n",
    "NewXt=[[55,54,240]] \n",
    "ScaledNewXt=sc.fit_transform(NewXt)\n",
    "Result=Tregressor.predict(ScaledNewXt) \n",
    "print(\"The Tensile Strength will be\",Result, \"MPa\")\n",
    "Result=Tregressor.predict(Xt_test)\n",
    "avgError=np.average(Result-Yt_test)\n",
    "print(avgError)\n",
    "Score=mean_squared_error(Result,Yt_test)\n",
    "print(Score)"
   ]
  },
  {
   "cell_type": "code",
   "execution_count": 21,
   "metadata": {},
   "outputs": [
    {
     "data": {
      "text/plain": [
       "SVR(C=1.0, cache_size=200, coef0=0.0, degree=3, epsilon=0.1, gamma='scale',\n",
       "    kernel='sigmoid', max_iter=-1, shrinking=True, tol=0.001, verbose=False)"
      ]
     },
     "execution_count": 21,
     "metadata": {},
     "output_type": "execute_result"
    }
   ],
   "source": [
    "Dregressor = SVR(kernel = 'sigmoid')\n",
    "Dregressor.fit(Xd_train, Yd_train)"
   ]
  },
  {
   "cell_type": "code",
   "execution_count": 82,
   "metadata": {},
   "outputs": [
    {
     "name": "stdout",
     "output_type": "stream",
     "text": [
      "The deflection will be [41.70092536] mm\n",
      "-0.2589324512753994\n",
      "0.8945172035510236\n"
     ]
    }
   ],
   "source": [
    "#Beam Bending\n",
    "NewXd=[[55,54,240]] \n",
    "ScaledNewXd=sc.fit_transform(NewXd)\n",
    "Result=Dregressor.predict(ScaledNewXd) \n",
    "print(\"The deflection will be\",Result, \"mm\")\n",
    "Result=Dregressor.predict(Xd_test)\n",
    "avgError=np.average(Result-Yd_test)\n",
    "print(avgError)\n",
    "Score=mean_squared_error(Result,Yd_test)\n",
    "print(Score)"
   ]
  },
  {
   "cell_type": "markdown",
   "metadata": {},
   "source": [
    "# Using ANN Regressor Tensile"
   ]
  },
  {
   "cell_type": "code",
   "execution_count": 47,
   "metadata": {},
   "outputs": [],
   "source": [
    "InjMachineT = tf.keras.models.Sequential()\n",
    "InjMachineT.add(tf.keras.layers.Dense(units=5, input_dim=3, activation='relu'))\n",
    "InjMachineT.add(tf.keras.layers.Dense(units=2, activation='relu'))\n",
    "InjMachineT.add(tf.keras.layers.Dense(units=1, activation='sigmoid'))\n"
   ]
  },
  {
   "cell_type": "code",
   "execution_count": 48,
   "metadata": {},
   "outputs": [],
   "source": [
    "InjMachineT.compile(loss='binary_crossentropy', optimizer='adam', metrics=['accuracy'])"
   ]
  },
  {
   "cell_type": "code",
   "execution_count": 49,
   "metadata": {},
   "outputs": [
    {
     "name": "stdout",
     "output_type": "stream",
     "text": [
      "Epoch 1/100\n",
      "3/3 [==============================] - 1s 276ms/step - loss: -10.4884 - accuracy: 0.0000e+00 - val_loss: -12.2168 - val_accuracy: 0.0000e+00\n",
      "Epoch 2/100\n",
      "3/3 [==============================] - 0s 30ms/step - loss: -11.0112 - accuracy: 0.0000e+00 - val_loss: -12.7086 - val_accuracy: 0.0000e+00\n",
      "Epoch 3/100\n",
      "3/3 [==============================] - 0s 38ms/step - loss: -11.5113 - accuracy: 0.0000e+00 - val_loss: -13.2061 - val_accuracy: 0.0000e+00\n",
      "Epoch 4/100\n",
      "3/3 [==============================] - 0s 46ms/step - loss: -12.0565 - accuracy: 0.0000e+00 - val_loss: -13.7040 - val_accuracy: 0.0000e+00\n",
      "Epoch 5/100\n",
      "3/3 [==============================] - 0s 41ms/step - loss: -12.6018 - accuracy: 0.0000e+00 - val_loss: -14.2070 - val_accuracy: 0.0000e+00\n",
      "Epoch 6/100\n",
      "3/3 [==============================] - 0s 29ms/step - loss: -13.1417 - accuracy: 0.0000e+00 - val_loss: -14.7113 - val_accuracy: 0.0000e+00\n",
      "Epoch 7/100\n",
      "3/3 [==============================] - 0s 29ms/step - loss: -13.6421 - accuracy: 0.0000e+00 - val_loss: -15.2423 - val_accuracy: 0.0000e+00\n",
      "Epoch 8/100\n",
      "3/3 [==============================] - 0s 30ms/step - loss: -14.2138 - accuracy: 0.0000e+00 - val_loss: -15.8053 - val_accuracy: 0.0000e+00\n",
      "Epoch 9/100\n",
      "3/3 [==============================] - 0s 35ms/step - loss: -14.8168 - accuracy: 0.0000e+00 - val_loss: -16.3798 - val_accuracy: 0.0000e+00\n",
      "Epoch 10/100\n",
      "3/3 [==============================] - 0s 32ms/step - loss: -15.4216 - accuracy: 0.0000e+00 - val_loss: -16.9684 - val_accuracy: 0.0000e+00\n",
      "Epoch 11/100\n",
      "3/3 [==============================] - 0s 32ms/step - loss: -16.0444 - accuracy: 0.0000e+00 - val_loss: -17.5648 - val_accuracy: 0.0000e+00\n",
      "Epoch 12/100\n",
      "3/3 [==============================] - 0s 37ms/step - loss: -16.6655 - accuracy: 0.0000e+00 - val_loss: -18.1687 - val_accuracy: 0.0000e+00\n",
      "Epoch 13/100\n",
      "3/3 [==============================] - 0s 34ms/step - loss: -17.3194 - accuracy: 0.0000e+00 - val_loss: -18.7785 - val_accuracy: 0.0000e+00\n",
      "Epoch 14/100\n",
      "3/3 [==============================] - 0s 38ms/step - loss: -17.9638 - accuracy: 0.0000e+00 - val_loss: -19.3929 - val_accuracy: 0.0000e+00\n",
      "Epoch 15/100\n",
      "3/3 [==============================] - 0s 35ms/step - loss: -18.5932 - accuracy: 0.0000e+00 - val_loss: -20.0249 - val_accuracy: 0.0000e+00\n",
      "Epoch 16/100\n",
      "3/3 [==============================] - 0s 26ms/step - loss: -19.2938 - accuracy: 0.0000e+00 - val_loss: -20.6551 - val_accuracy: 0.0000e+00\n",
      "Epoch 17/100\n",
      "3/3 [==============================] - 0s 27ms/step - loss: -19.9396 - accuracy: 0.0000e+00 - val_loss: -21.3017 - val_accuracy: 0.0000e+00\n",
      "Epoch 18/100\n",
      "3/3 [==============================] - 0s 31ms/step - loss: -20.6181 - accuracy: 0.0000e+00 - val_loss: -21.9598 - val_accuracy: 0.0000e+00\n",
      "Epoch 19/100\n",
      "3/3 [==============================] - 0s 35ms/step - loss: -21.3180 - accuracy: 0.0000e+00 - val_loss: -22.6277 - val_accuracy: 0.0000e+00\n",
      "Epoch 20/100\n",
      "3/3 [==============================] - 0s 32ms/step - loss: -22.0096 - accuracy: 0.0000e+00 - val_loss: -23.3090 - val_accuracy: 0.0000e+00\n",
      "Epoch 21/100\n",
      "3/3 [==============================] - 0s 33ms/step - loss: -22.7602 - accuracy: 0.0000e+00 - val_loss: -23.9935 - val_accuracy: 0.0000e+00\n",
      "Epoch 22/100\n",
      "3/3 [==============================] - 0s 38ms/step - loss: -23.4456 - accuracy: 0.0000e+00 - val_loss: -24.7031 - val_accuracy: 0.0000e+00\n",
      "Epoch 23/100\n",
      "3/3 [==============================] - 0s 36ms/step - loss: -24.1895 - accuracy: 0.0000e+00 - val_loss: -25.4206 - val_accuracy: 0.0000e+00\n",
      "Epoch 24/100\n",
      "3/3 [==============================] - 0s 34ms/step - loss: -24.9550 - accuracy: 0.0000e+00 - val_loss: -26.1504 - val_accuracy: 0.0000e+00\n",
      "Epoch 25/100\n",
      "3/3 [==============================] - 0s 33ms/step - loss: -25.6969 - accuracy: 0.0000e+00 - val_loss: -26.8938 - val_accuracy: 0.0000e+00\n",
      "Epoch 26/100\n",
      "3/3 [==============================] - 0s 28ms/step - loss: -26.5070 - accuracy: 0.0000e+00 - val_loss: -27.6468 - val_accuracy: 0.0000e+00\n",
      "Epoch 27/100\n",
      "3/3 [==============================] - 0s 30ms/step - loss: -27.2823 - accuracy: 0.0000e+00 - val_loss: -28.4154 - val_accuracy: 0.0000e+00\n",
      "Epoch 28/100\n",
      "3/3 [==============================] - 0s 33ms/step - loss: -28.0982 - accuracy: 0.0000e+00 - val_loss: -29.1959 - val_accuracy: 0.0000e+00\n",
      "Epoch 29/100\n",
      "3/3 [==============================] - 0s 28ms/step - loss: -28.8977 - accuracy: 0.0000e+00 - val_loss: -29.9956 - val_accuracy: 0.0000e+00\n",
      "Epoch 30/100\n",
      "3/3 [==============================] - 0s 38ms/step - loss: -29.7768 - accuracy: 0.0000e+00 - val_loss: -30.7995 - val_accuracy: 0.0000e+00\n",
      "Epoch 31/100\n",
      "3/3 [==============================] - 0s 35ms/step - loss: -30.5958 - accuracy: 0.0000e+00 - val_loss: -31.6213 - val_accuracy: 0.0000e+00\n",
      "Epoch 32/100\n",
      "3/3 [==============================] - 0s 34ms/step - loss: -31.4852 - accuracy: 0.0000e+00 - val_loss: -32.4502 - val_accuracy: 0.0000e+00\n",
      "Epoch 33/100\n",
      "3/3 [==============================] - 0s 29ms/step - loss: -32.3357 - accuracy: 0.0000e+00 - val_loss: -33.3018 - val_accuracy: 0.0000e+00\n",
      "Epoch 34/100\n",
      "3/3 [==============================] - 0s 30ms/step - loss: -33.2146 - accuracy: 0.0000e+00 - val_loss: -34.1722 - val_accuracy: 0.0000e+00\n",
      "Epoch 35/100\n",
      "3/3 [==============================] - 0s 38ms/step - loss: -34.1198 - accuracy: 0.0000e+00 - val_loss: -35.0586 - val_accuracy: 0.0000e+00\n",
      "Epoch 36/100\n",
      "3/3 [==============================] - 0s 33ms/step - loss: -35.0735 - accuracy: 0.0000e+00 - val_loss: -35.9594 - val_accuracy: 0.0000e+00\n",
      "Epoch 37/100\n",
      "3/3 [==============================] - 0s 30ms/step - loss: -36.0029 - accuracy: 0.0000e+00 - val_loss: -36.8777 - val_accuracy: 0.0000e+00\n",
      "Epoch 38/100\n",
      "3/3 [==============================] - 0s 33ms/step - loss: -36.9950 - accuracy: 0.0000e+00 - val_loss: -37.8053 - val_accuracy: 0.0000e+00\n",
      "Epoch 39/100\n",
      "3/3 [==============================] - 0s 27ms/step - loss: -37.9911 - accuracy: 0.0000e+00 - val_loss: -38.7504 - val_accuracy: 0.0000e+00\n",
      "Epoch 40/100\n",
      "3/3 [==============================] - 0s 26ms/step - loss: -38.9344 - accuracy: 0.0000e+00 - val_loss: -39.7271 - val_accuracy: 0.0000e+00\n",
      "Epoch 41/100\n",
      "3/3 [==============================] - 0s 23ms/step - loss: -39.9846 - accuracy: 0.0000e+00 - val_loss: -40.7162 - val_accuracy: 0.0000e+00\n",
      "Epoch 42/100\n",
      "3/3 [==============================] - 0s 25ms/step - loss: -41.0048 - accuracy: 0.0000e+00 - val_loss: -41.7234 - val_accuracy: 0.0000e+00\n",
      "Epoch 43/100\n",
      "3/3 [==============================] - 0s 27ms/step - loss: -42.0770 - accuracy: 0.0000e+00 - val_loss: -42.7431 - val_accuracy: 0.0000e+00\n",
      "Epoch 44/100\n",
      "3/3 [==============================] - 0s 25ms/step - loss: -43.1536 - accuracy: 0.0000e+00 - val_loss: -43.7833 - val_accuracy: 0.0000e+00\n",
      "Epoch 45/100\n",
      "3/3 [==============================] - 0s 27ms/step - loss: -44.2863 - accuracy: 0.0000e+00 - val_loss: -44.8366 - val_accuracy: 0.0000e+00\n",
      "Epoch 46/100\n",
      "3/3 [==============================] - 0s 28ms/step - loss: -45.3903 - accuracy: 0.0000e+00 - val_loss: -45.9129 - val_accuracy: 0.0000e+00\n",
      "Epoch 47/100\n",
      "3/3 [==============================] - 0s 30ms/step - loss: -46.4852 - accuracy: 0.0000e+00 - val_loss: -47.0046 - val_accuracy: 0.0000e+00\n",
      "Epoch 48/100\n",
      "3/3 [==============================] - 0s 28ms/step - loss: -47.6472 - accuracy: 0.0000e+00 - val_loss: -48.1177 - val_accuracy: 0.0000e+00\n",
      "Epoch 49/100\n",
      "3/3 [==============================] - 0s 31ms/step - loss: -48.7923 - accuracy: 0.0000e+00 - val_loss: -49.2525 - val_accuracy: 0.0000e+00\n",
      "Epoch 50/100\n",
      "3/3 [==============================] - 0s 32ms/step - loss: -49.9937 - accuracy: 0.0000e+00 - val_loss: -50.4044 - val_accuracy: 0.0000e+00\n",
      "Epoch 51/100\n",
      "3/3 [==============================] - 0s 32ms/step - loss: -51.2040 - accuracy: 0.0000e+00 - val_loss: -51.5736 - val_accuracy: 0.0000e+00\n",
      "Epoch 52/100\n",
      "3/3 [==============================] - 0s 26ms/step - loss: -52.4283 - accuracy: 0.0000e+00 - val_loss: -52.7623 - val_accuracy: 0.0000e+00\n",
      "Epoch 53/100\n",
      "3/3 [==============================] - 0s 29ms/step - loss: -53.6550 - accuracy: 0.0000e+00 - val_loss: -53.9753 - val_accuracy: 0.0000e+00\n",
      "Epoch 54/100\n",
      "3/3 [==============================] - 0s 26ms/step - loss: -54.9386 - accuracy: 0.0000e+00 - val_loss: -55.2060 - val_accuracy: 0.0000e+00\n",
      "Epoch 55/100\n",
      "3/3 [==============================] - 0s 28ms/step - loss: -56.2280 - accuracy: 0.0000e+00 - val_loss: -56.4612 - val_accuracy: 0.0000e+00\n",
      "Epoch 56/100\n",
      "3/3 [==============================] - 0s 30ms/step - loss: -57.5209 - accuracy: 0.0000e+00 - val_loss: -57.7403 - val_accuracy: 0.0000e+00\n",
      "Epoch 57/100\n",
      "3/3 [==============================] - 0s 30ms/step - loss: -58.8860 - accuracy: 0.0000e+00 - val_loss: -59.0372 - val_accuracy: 0.0000e+00\n",
      "Epoch 58/100\n",
      "3/3 [==============================] - 0s 31ms/step - loss: -60.1966 - accuracy: 0.0000e+00 - val_loss: -60.3749 - val_accuracy: 0.0000e+00\n",
      "Epoch 59/100\n",
      "3/3 [==============================] - 0s 26ms/step - loss: -61.6208 - accuracy: 0.0000e+00 - val_loss: -61.7290 - val_accuracy: 0.0000e+00\n",
      "Epoch 60/100\n",
      "3/3 [==============================] - 0s 27ms/step - loss: -63.0175 - accuracy: 0.0000e+00 - val_loss: -63.1054 - val_accuracy: 0.0000e+00\n",
      "Epoch 61/100\n",
      "3/3 [==============================] - 0s 29ms/step - loss: -64.4623 - accuracy: 0.0000e+00 - val_loss: -64.5037 - val_accuracy: 0.0000e+00\n",
      "Epoch 62/100\n",
      "3/3 [==============================] - 0s 30ms/step - loss: -65.9476 - accuracy: 0.0000e+00 - val_loss: -65.9188 - val_accuracy: 0.0000e+00\n",
      "Epoch 63/100\n",
      "3/3 [==============================] - 0s 30ms/step - loss: -67.4551 - accuracy: 0.0000e+00 - val_loss: -67.3529 - val_accuracy: 0.0000e+00\n",
      "Epoch 64/100\n",
      "3/3 [==============================] - 0s 26ms/step - loss: -68.9299 - accuracy: 0.0000e+00 - val_loss: -68.8781 - val_accuracy: 0.0000e+00\n",
      "Epoch 65/100\n",
      "3/3 [==============================] - 0s 25ms/step - loss: -70.5135 - accuracy: 0.0000e+00 - val_loss: -70.4379 - val_accuracy: 0.0000e+00\n",
      "Epoch 66/100\n",
      "3/3 [==============================] - 0s 30ms/step - loss: -72.0599 - accuracy: 0.0000e+00 - val_loss: -72.0320 - val_accuracy: 0.0000e+00\n",
      "Epoch 67/100\n",
      "3/3 [==============================] - 0s 25ms/step - loss: -73.6513 - accuracy: 0.0000e+00 - val_loss: -73.6592 - val_accuracy: 0.0000e+00\n",
      "Epoch 68/100\n",
      "3/3 [==============================] - 0s 28ms/step - loss: -75.3185 - accuracy: 0.0000e+00 - val_loss: -75.3109 - val_accuracy: 0.0000e+00\n",
      "Epoch 69/100\n",
      "3/3 [==============================] - 0s 28ms/step - loss: -76.9884 - accuracy: 0.0000e+00 - val_loss: -76.9884 - val_accuracy: 0.0000e+00\n",
      "Epoch 70/100\n",
      "3/3 [==============================] - 0s 29ms/step - loss: -78.6666 - accuracy: 0.0000e+00 - val_loss: -78.6947 - val_accuracy: 0.0000e+00\n",
      "Epoch 71/100\n",
      "3/3 [==============================] - 0s 28ms/step - loss: -80.4087 - accuracy: 0.0000e+00 - val_loss: -80.4204 - val_accuracy: 0.0000e+00\n",
      "Epoch 72/100\n",
      "3/3 [==============================] - 0s 29ms/step - loss: -82.0956 - accuracy: 0.0000e+00 - val_loss: -82.1894 - val_accuracy: 0.0000e+00\n",
      "Epoch 73/100\n",
      "3/3 [==============================] - 0s 33ms/step - loss: -83.9202 - accuracy: 0.0000e+00 - val_loss: -83.9763 - val_accuracy: 0.0000e+00\n",
      "Epoch 74/100\n",
      "3/3 [==============================] - 0s 30ms/step - loss: -85.7811 - accuracy: 0.0000e+00 - val_loss: -85.7783 - val_accuracy: 0.0000e+00\n",
      "Epoch 75/100\n",
      "3/3 [==============================] - 0s 35ms/step - loss: -87.5719 - accuracy: 0.0000e+00 - val_loss: -87.6222 - val_accuracy: 0.0000e+00\n",
      "Epoch 76/100\n",
      "3/3 [==============================] - 0s 32ms/step - loss: -89.4484 - accuracy: 0.0000e+00 - val_loss: -89.4940 - val_accuracy: 0.0000e+00\n",
      "Epoch 77/100\n",
      "3/3 [==============================] - 0s 36ms/step - loss: -91.3244 - accuracy: 0.0000e+00 - val_loss: -91.4036 - val_accuracy: 0.0000e+00\n",
      "Epoch 78/100\n",
      "3/3 [==============================] - 0s 33ms/step - loss: -93.2862 - accuracy: 0.0000e+00 - val_loss: -93.3326 - val_accuracy: 0.0000e+00\n",
      "Epoch 79/100\n",
      "3/3 [==============================] - 0s 31ms/step - loss: -95.2423 - accuracy: 0.0000e+00 - val_loss: -95.2966 - val_accuracy: 0.0000e+00\n",
      "Epoch 80/100\n",
      "3/3 [==============================] - 0s 30ms/step - loss: -97.1908 - accuracy: 0.0000e+00 - val_loss: -97.2934 - val_accuracy: 0.0000e+00\n",
      "Epoch 81/100\n",
      "3/3 [==============================] - 0s 36ms/step - loss: -99.2178 - accuracy: 0.0000e+00 - val_loss: -99.3234 - val_accuracy: 0.0000e+00\n",
      "Epoch 82/100\n",
      "3/3 [==============================] - 0s 37ms/step - loss: -101.3454 - accuracy: 0.0000e+00 - val_loss: -101.3669 - val_accuracy: 0.0000e+00\n",
      "Epoch 83/100\n",
      "3/3 [==============================] - 0s 35ms/step - loss: -103.3868 - accuracy: 0.0000e+00 - val_loss: -103.4528 - val_accuracy: 0.0000e+00\n",
      "Epoch 84/100\n",
      "3/3 [==============================] - 0s 25ms/step - loss: -105.4610 - accuracy: 0.0000e+00 - val_loss: -105.5841 - val_accuracy: 0.0000e+00\n",
      "Epoch 85/100\n",
      "3/3 [==============================] - 0s 26ms/step - loss: -107.5975 - accuracy: 0.0000e+00 - val_loss: -107.7513 - val_accuracy: 0.0000e+00\n",
      "Epoch 86/100\n",
      "3/3 [==============================] - 0s 24ms/step - loss: -109.8541 - accuracy: 0.0000e+00 - val_loss: -109.9251 - val_accuracy: 0.0000e+00\n",
      "Epoch 87/100\n",
      "3/3 [==============================] - 0s 27ms/step - loss: -112.0461 - accuracy: 0.0000e+00 - val_loss: -112.1397 - val_accuracy: 0.0000e+00\n",
      "Epoch 88/100\n",
      "3/3 [==============================] - 0s 24ms/step - loss: -114.2753 - accuracy: 0.0000e+00 - val_loss: -114.3883 - val_accuracy: 0.0000e+00\n",
      "Epoch 89/100\n",
      "3/3 [==============================] - 0s 20ms/step - loss: -116.5853 - accuracy: 0.0000e+00 - val_loss: -116.6674 - val_accuracy: 0.0000e+00\n",
      "Epoch 90/100\n",
      "3/3 [==============================] - 0s 19ms/step - loss: -118.9281 - accuracy: 0.0000e+00 - val_loss: -118.9735 - val_accuracy: 0.0000e+00\n",
      "Epoch 91/100\n",
      "3/3 [==============================] - 0s 24ms/step - loss: -121.2855 - accuracy: 0.0000e+00 - val_loss: -121.3123 - val_accuracy: 0.0000e+00\n",
      "Epoch 92/100\n",
      "3/3 [==============================] - 0s 23ms/step - loss: -123.6130 - accuracy: 0.0000e+00 - val_loss: -123.6960 - val_accuracy: 0.0000e+00\n",
      "Epoch 93/100\n",
      "3/3 [==============================] - 0s 23ms/step - loss: -126.1019 - accuracy: 0.0000e+00 - val_loss: -126.1016 - val_accuracy: 0.0000e+00\n",
      "Epoch 94/100\n",
      "3/3 [==============================] - 0s 22ms/step - loss: -128.4901 - accuracy: 0.0000e+00 - val_loss: -128.5525 - val_accuracy: 0.0000e+00\n",
      "Epoch 95/100\n",
      "3/3 [==============================] - 0s 21ms/step - loss: -131.0126 - accuracy: 0.0000e+00 - val_loss: -131.0429 - val_accuracy: 0.0000e+00\n",
      "Epoch 96/100\n",
      "3/3 [==============================] - 0s 106ms/step - loss: -133.5144 - accuracy: 0.0000e+00 - val_loss: -133.5775 - val_accuracy: 0.0000e+00\n",
      "Epoch 97/100\n",
      "3/3 [==============================] - 0s 136ms/step - loss: -136.1489 - accuracy: 0.0000e+00 - val_loss: -136.1267 - val_accuracy: 0.0000e+00\n",
      "Epoch 98/100\n",
      "3/3 [==============================] - 0s 84ms/step - loss: -138.6966 - accuracy: 0.0000e+00 - val_loss: -138.7259 - val_accuracy: 0.0000e+00\n",
      "Epoch 99/100\n",
      "3/3 [==============================] - 0s 130ms/step - loss: -141.3186 - accuracy: 0.0000e+00 - val_loss: -141.3614 - val_accuracy: 0.0000e+00\n",
      "Epoch 100/100\n",
      "3/3 [==============================] - 0s 91ms/step - loss: -144.0337 - accuracy: 0.0000e+00 - val_loss: -144.0323 - val_accuracy: 0.0000e+00\n"
     ]
    },
    {
     "data": {
      "text/plain": [
       "<keras.callbacks.History at 0x1ec1c2ee708>"
      ]
     },
     "execution_count": 49,
     "metadata": {},
     "output_type": "execute_result"
    }
   ],
   "source": [
    "InjMachineT.fit(Xt_train, Yt_train, validation_split=0.33, batch_size = 32, epochs = 100, verbose=1)"
   ]
  },
  {
   "cell_type": "code",
   "execution_count": 51,
   "metadata": {},
   "outputs": [
    {
     "name": "stdout",
     "output_type": "stream",
     "text": [
      "2/2 [==============================] - 0s 7ms/step - loss: -149.3402 - accuracy: 0.0000e+00\n",
      "[-149.34024047851562, 0.0]\n",
      "The average error for tensile ANN regressor is  -23.685362753578342\n"
     ]
    },
    {
     "data": {
      "image/png": "[encoded data removed]",
      "text/plain": [
       "<Figure size 432x288 with 1 Axes>"
      ]
     },
     "metadata": {
      "needs_background": "light"
     },
     "output_type": "display_data"
    }
   ],
   "source": [
    "Yt_pred = InjMachineT.predict(Xt_test)\n",
    "Error=Yt_pred-Yt_test\n",
    "import matplotlib.pyplot as plt\n",
    "plt.plot(range(len(Error)), Error)\n",
    "AverageError= np.average(Error)\n",
    "print('The average error for tensile ANN regressor is ',AverageError)\n",
    "Result=InjMachineT.evaluate(Xt_test,Yt_test)\n",
    "print(Result)"
   ]
  },
  {
   "cell_type": "markdown",
   "metadata": {},
   "source": [
    "# Using ANN Regressor Deflection"
   ]
  },
  {
   "cell_type": "code",
   "execution_count": 31,
   "metadata": {},
   "outputs": [],
   "source": [
    "InjMachineD = tf.keras.models.Sequential()\n",
    "InjMachineD.add(tf.keras.layers.Dense(units=5, input_dim=3, activation='relu'))\n",
    "InjMachineD.add(tf.keras.layers.Dense(units=2, activation='relu'))\n",
    "InjMachineD.add(tf.keras.layers.Dense(units=1, activation='sigmoid'))"
   ]
  },
  {
   "cell_type": "code",
   "execution_count": 32,
   "metadata": {},
   "outputs": [],
   "source": [
    "InjMachineD.compile(loss='binary_crossentropy', optimizer='adam', metrics=['accuracy'])"
   ]
  },
  {
   "cell_type": "code",
   "execution_count": 33,
   "metadata": {
    "scrolled": true
   },
   "outputs": [
    {
     "name": "stdout",
     "output_type": "stream",
     "text": [
      "Epoch 1/10\n",
      "3/3 [==============================] - 1s 131ms/step - loss: -16.4010 - accuracy: 0.0000e+00 - val_loss: -17.1086 - val_accuracy: 0.0000e+00\n",
      "Epoch 2/10\n",
      "3/3 [==============================] - 0s 40ms/step - loss: -17.1777 - accuracy: 0.0000e+00 - val_loss: -17.8299 - val_accuracy: 0.0000e+00\n",
      "Epoch 3/10\n",
      "3/3 [==============================] - 0s 37ms/step - loss: -17.9452 - accuracy: 0.0000e+00 - val_loss: -18.5583 - val_accuracy: 0.0000e+00\n",
      "Epoch 4/10\n",
      "3/3 [==============================] - 0s 32ms/step - loss: -18.7612 - accuracy: 0.0000e+00 - val_loss: -19.2923 - val_accuracy: 0.0000e+00\n",
      "Epoch 5/10\n",
      "3/3 [==============================] - 0s 35ms/step - loss: -19.5458 - accuracy: 0.0000e+00 - val_loss: -20.0457 - val_accuracy: 0.0000e+00\n",
      "Epoch 6/10\n",
      "3/3 [==============================] - 0s 35ms/step - loss: -20.3811 - accuracy: 0.0000e+00 - val_loss: -20.8122 - val_accuracy: 0.0000e+00\n",
      "Epoch 7/10\n",
      "3/3 [==============================] - 0s 36ms/step - loss: -21.2041 - accuracy: 0.0000e+00 - val_loss: -21.5897 - val_accuracy: 0.0000e+00\n",
      "Epoch 8/10\n",
      "3/3 [==============================] - 0s 33ms/step - loss: -22.0381 - accuracy: 0.0000e+00 - val_loss: -22.3815 - val_accuracy: 0.0000e+00\n",
      "Epoch 9/10\n",
      "3/3 [==============================] - 0s 29ms/step - loss: -22.9151 - accuracy: 0.0000e+00 - val_loss: -23.1838 - val_accuracy: 0.0000e+00\n",
      "Epoch 10/10\n",
      "3/3 [==============================] - 0s 32ms/step - loss: -23.7726 - accuracy: 0.0000e+00 - val_loss: -23.9982 - val_accuracy: 0.0000e+00\n"
     ]
    },
    {
     "data": {
      "text/plain": [
       "<keras.callbacks.History at 0x1ec1bfed888>"
      ]
     },
     "execution_count": 33,
     "metadata": {},
     "output_type": "execute_result"
    }
   ],
   "source": [
    "InjMachineD.fit(Xd_train, Yd_train, validation_split=0.33, batch_size = 32, epochs = 100, verbose=1)"
   ]
  },
  {
   "cell_type": "code",
   "execution_count": 52,
   "metadata": {},
   "outputs": [
    {
     "name": "stdout",
     "output_type": "stream",
     "text": [
      "The average error for tensile ANN regressor is  -41.29411444964347\n",
      "2/2 [==============================] - 0s 5ms/step - loss: -19.6926 - accuracy: 0.0000e+00\n",
      "[-19.692630767822266, 0.0]\n"
     ]
    },
    {
     "data": {
      "image/png": "[encoded data removed]",
      "text/plain": [
       "<Figure size 432x288 with 1 Axes>"
      ]
     },
     "metadata": {
      "needs_background": "light"
     },
     "output_type": "display_data"
    }
   ],
   "source": [
    "Yd_pred = InjMachineT.predict(Xd_test)\n",
    "Error=Yd_pred-Yd_test\n",
    "\n",
    "import matplotlib.pyplot as plt\n",
    "plt.plot(range(len(Error)), Error)\n",
    "AverageError= np.average(Error)\n",
    "print('The average error for tensile ANN regressor is ',AverageError)\n",
    "Result=InjMachineD.evaluate(Xd_test,Yd_test)\n",
    "print(Result)"
   ]
  },
  {
   "cell_type": "code",
   "execution_count": 46,
   "metadata": {},
   "outputs": [
    {
     "name": "stdout",
     "output_type": "stream",
     "text": [
      "The prediction for tensile ANN regressor is  [[1.8961986e-14]]\n"
     ]
    }
   ],
   "source": [
    "# Prediction for Tensile Strength\n",
    "NewXt=[[54,54,240]]\n",
    "ScaledNewXt=sc.fit_transform(NewXt)\n",
    "Prediction=InjMachineT.predict(ScaledNewXt)\n",
    "print('The prediction for tensile ANN regressor is ',Prediction)\n"
   ]
  },
  {
   "cell_type": "code",
   "execution_count": 42,
   "metadata": {},
   "outputs": [
    {
     "name": "stdout",
     "output_type": "stream",
     "text": [
      "The prediction for tensile ANN regressor is  [[0.5347411]]\n"
     ]
    }
   ],
   "source": [
    "# Prediction for Tensile Strength\n",
    "NewXd=[[55,54,240]]\n",
    "ScaledNewXd=sc.fit_transform(NewXd)\n",
    "Prediction=InjMachineD.predict(ScaledNewXd)\n",
    "print('The prediction for tensile ANN regressor is ',Prediction)"
   ]
  }
 ],
 "metadata": {
  "kernelspec": {
   "display_name": "Python 3 (ipykernel)",
   "language": "python",
   "name": "python3"
  },
  "language_info": {
   "codemirror_mode": {
    "name": "ipython",
    "version": 3
   },
   "file_extension": ".py",
   "mimetype": "text/x-python",
   "name": "python",
   "nbconvert_exporter": "python",
   "pygments_lexer": "ipython3",
   "version": "3.9.13"
  }
 },
 "nbformat": 4,
 "nbformat_minor": 4
}
